{
 "cells": [
  {
   "cell_type": "code",
   "execution_count": 329,
   "metadata": {},
   "outputs": [],
   "source": [
    "import numpy as np\n",
    "from PIL import Image\n",
    "from scipy.special import softmax"
   ]
  },
  {
   "cell_type": "code",
   "execution_count": 330,
   "metadata": {},
   "outputs": [],
   "source": [
    "A = Image.open('A.png').convert('1')\n",
    "A2 = Image.open('A2.png').convert('1')\n",
    "D = Image.open('D.png').convert('1')\n",
    "D2 = Image.open('D2.png').convert('1')\n",
    "V = Image.open('V.png').convert('1')\n",
    "V2 = Image.open('V2.png').convert('1')"
   ]
  },
  {
   "cell_type": "code",
   "execution_count": 331,
   "metadata": {},
   "outputs": [],
   "source": [
    "A_noisy = Image.open('A_noisy.png').convert('1')\n",
    "D_noisy = Image.open('D_noisy.png').convert('1')\n",
    "V_noisy = Image.open('V_noisy.png').convert('1')\n",
    "A_test_noisy = Image.open('A_test.png').convert('1')\n",
    "V_test_noisy = Image.open('V_test.png').convert('1')"
   ]
  },
  {
   "cell_type": "code",
   "execution_count": 332,
   "metadata": {},
   "outputs": [],
   "source": [
    "C = Image.open('C.png').convert('1')"
   ]
  },
  {
   "cell_type": "code",
   "execution_count": 333,
   "metadata": {},
   "outputs": [],
   "source": [
    "A_vec = np.array(A).reshape((1, -1))[0]\n",
    "A2_vec = np.array(A2).reshape((1, -1))[0]\n",
    "D_vec = np.array(D).reshape((1, -1))[0]\n",
    "D2_vec = np.array(D2).reshape((1, -1))[0]\n",
    "V_vec = np.array(V).reshape((1, -1))[0]\n",
    "V2_vec = np.array(V2).reshape((1, -1))[0]"
   ]
  },
  {
   "cell_type": "code",
   "execution_count": 334,
   "metadata": {},
   "outputs": [],
   "source": [
    "X_train = np.vstack((A_vec, D_vec, V_vec, A2_vec, D2_vec, V2_vec))\n",
    "y_train = np.array([[1, 0, 0], [0, 1, 0], [0, 0, 1], [1, 0, 0], [0, 1, 0], [0, 0, 1]])"
   ]
  },
  {
   "cell_type": "code",
   "execution_count": 335,
   "metadata": {},
   "outputs": [],
   "source": [
    "A_noisy_vec = np.array(A_noisy).reshape((1, -1))\n",
    "D_noisy_vec = np.array(D_noisy).reshape((1, -1))\n",
    "V_noisy_vec = np.array(V_noisy).reshape((1, -1))\n",
    "A_test_vec = np.array(A_test_noisy).reshape((1, -1))\n",
    "V_test_vec = np.array(V_test_noisy).reshape((1, -1))\n",
    "C_vec = np.array(C).reshape((1, -1))"
   ]
  },
  {
   "cell_type": "code",
   "execution_count": 336,
   "metadata": {},
   "outputs": [],
   "source": [
    "X_test = np.vstack((A_noisy_vec, D_noisy_vec, V_noisy_vec, V_test_vec, A_test_vec))"
   ]
  },
  {
   "cell_type": "code",
   "execution_count": 337,
   "metadata": {},
   "outputs": [],
   "source": [
    "def activation(s, num_neurons):\n",
    "    T = num_neurons / 2\n",
    "    if s < 0:\n",
    "        return 0\n",
    "    elif s >= 0 and s < T:\n",
    "        return s\n",
    "    else:\n",
    "        return T"
   ]
  },
  {
   "cell_type": "code",
   "execution_count": 338,
   "metadata": {},
   "outputs": [],
   "source": [
    "def hamming_distance(x, y):\n",
    "    return np.sum(x != y)\n",
    "\n",
    "class HammingNetwork:\n",
    "    def __init__(self):\n",
    "        self.weights = None\n",
    "    \n",
    "    def train(self, X, y):\n",
    "        n, m = X.shape\n",
    "        k = y.shape[1]\n",
    "        self.weights = np.zeros((k, m))\n",
    "        for i in range(k):\n",
    "            indices = np.argmax(y[:, i])\n",
    "            self.weights[i] = X[indices]\n",
    "    \n",
    "    def predict(self, X):\n",
    "        predictions = []\n",
    "        for x in X:\n",
    "            distances = [hamming_distance(x, w) for w in self.weights]\n",
    "            prediction = np.argmin(distances)\n",
    "            predictions.append(prediction)\n",
    "        return np.array(predictions)"
   ]
  },
  {
   "cell_type": "code",
   "execution_count": 339,
   "metadata": {},
   "outputs": [],
   "source": [
    "#model = HammingNetwork(121, X_train.shape[1], y_train.shape[1])\n",
    "model = HammingNetwork()\n",
    "\n",
    "model.train(X_train, y_train)\n",
    "\n",
    "pred = model.predict(X_test)"
   ]
  },
  {
   "cell_type": "code",
   "execution_count": 340,
   "metadata": {},
   "outputs": [
    {
     "data": {
      "text/plain": [
       "array([0, 1, 2, 2, 0], dtype=int64)"
      ]
     },
     "execution_count": 340,
     "metadata": {},
     "output_type": "execute_result"
    }
   ],
   "source": [
    "pred"
   ]
  }
 ],
 "metadata": {
  "kernelspec": {
   "display_name": "Python 3",
   "language": "python",
   "name": "python3"
  },
  "language_info": {
   "codemirror_mode": {
    "name": "ipython",
    "version": 3
   },
   "file_extension": ".py",
   "mimetype": "text/x-python",
   "name": "python",
   "nbconvert_exporter": "python",
   "pygments_lexer": "ipython3",
   "version": "3.10.9"
  },
  "orig_nbformat": 4
 },
 "nbformat": 4,
 "nbformat_minor": 2
}
