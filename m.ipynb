{
 "cells": [
  {
   "cell_type": "code",
   "execution_count": 47,
   "metadata": {},
   "outputs": [],
   "source": [
    "import math\n",
    "from PIL import Image, ImageDraw "
   ]
  },
  {
   "cell_type": "code",
   "execution_count": 48,
   "metadata": {},
   "outputs": [],
   "source": [
    "def vector_to_matrix(v, a, b):  # функция для преобразования вектора v в матрицу заданных размеров a и b\n",
    "    t = [[0 for j in range(a)] for i in range(b)]\n",
    "    j = 0\n",
    "    for k in range(b):\n",
    "        for i in range(a):\n",
    "            t[i][k] = v[j]\n",
    "            j += 1\n",
    "    return t\n",
    "\n",
    "\n",
    "def product(w, y):  # функция умножения матрицы на вектор\n",
    "    z = []\n",
    "    for i in range(len(w)):\n",
    "        x = 0\n",
    "        for j in range(len(y)):\n",
    "            x = x + w[i][j] * y[j]\n",
    "        z.append(x)\n",
    "    return z\n",
    "\n",
    "\n",
    "def action(s, T):  # активационная функция\n",
    "    t = []\n",
    "    for i in s:\n",
    "        if i <= 0:\n",
    "            t.append(0)\n",
    "        elif 0 < i <= T:\n",
    "            t.append(i)\n",
    "        elif i > T:\n",
    "            t.append(T)\n",
    "    return t\n",
    "\n",
    "\n",
    "def mysum(y, j):  # функция для вычисления суммы значений вектора при  i != j\n",
    "    p = 0\n",
    "    sum = 0\n",
    "    while p < len(y):\n",
    "        if p != j:\n",
    "            sum = sum + y[p]\n",
    "        p += 1\n",
    "    return sum\n",
    "\n",
    "\n",
    "def norm(v, p):  # функция вычисляющая разность двух векторов и вычисляющая норму получившегося вектора\n",
    "    t = []\n",
    "    for i in range(len(v)):\n",
    "        t.append(v[i] - p[i])\n",
    "    sum = 0\n",
    "    for i in t:\n",
    "        sum += i * i\n",
    "    return math.sqrt(sum)\n"
   ]
  },
  {
   "cell_type": "code",
   "execution_count": 49,
   "metadata": {},
   "outputs": [],
   "source": [
    "NORM_PATH = ['A.png',\n",
    "        'D.png',\n",
    "        'V.png'\n",
    "        ]\n",
    "\n",
    "SYMBOLS = [\"A\", \"D\", \"V\"]"
   ]
  },
  {
   "cell_type": "code",
   "execution_count": 50,
   "metadata": {},
   "outputs": [],
   "source": [
    "def image_to_binary(path):\n",
    "    image = Image.open(path)  \n",
    "    draw = ImageDraw.Draw(image)  \n",
    "    width = image.size[0]  # ширина\n",
    "    height = image.size[1]  # высота\n",
    "    pix = image.load() \n",
    "    factor = 100\n",
    "    t = []\n",
    "    for i in range(width):\n",
    "        for j in range(height):\n",
    "            a = pix[i, j][0]\n",
    "            b = pix[i, j][1]\n",
    "            c = pix[i, j][2]\n",
    "            S = a + b + c\n",
    "            if int(S > (((255 + factor) // 2) * 3)):\n",
    "                a, b, c = 255, 255, 255\n",
    "                t.append(-1)\n",
    "            else:\n",
    "                a, b, c = 0, 0, 0\n",
    "                t.append(1)\n",
    "            draw.point((i, j), (a, b, c))\n",
    "    del draw\n",
    "    return t"
   ]
  },
  {
   "cell_type": "code",
   "execution_count": 51,
   "metadata": {},
   "outputs": [],
   "source": [
    "NOISY_IMAGE = \"D_noisy.png\"\n",
    "X_train = []\n",
    "for i in NORM_PATH:\n",
    "    X_train.append(image_to_binary(i))\n",
    "y = image_to_binary(NOISY_IMAGE)"
   ]
  },
  {
   "cell_type": "code",
   "execution_count": 52,
   "metadata": {},
   "outputs": [
    {
     "data": {
      "text/plain": [
       "'D'"
      ]
     },
     "execution_count": 52,
     "metadata": {},
     "output_type": "execute_result"
    }
   ],
   "source": [
    "\n",
    "neurons_num = len(X_train[0])  \n",
    "\n",
    "w = [[(X_train[i][j]) / 2 for j in range(neurons_num)] for i in range(len(X_train))]\n",
    "\n",
    "T = neurons_num / 2 \n",
    "\n",
    "e = round(1 / len(X_train), 1) \n",
    "\n",
    "E = [[0 for j in range(len(X_train))] for i in range(len(X_train))]  \n",
    "for i in range(len(X_train)):\n",
    "    for j in range(len(X_train)):\n",
    "        if i == j:\n",
    "            E[i][j] = 1\n",
    "        else:\n",
    "            E[i][j] = -e/1.5\n",
    "\n",
    "Emax = 0.1  \n",
    "s = [product(w, y)] \n",
    "p = action(s[0], T) \n",
    "y = [p]\n",
    "i = 0\n",
    "j = []\n",
    "p = [0 for j in range(len(s[0]))]\n",
    "while norm(y[i], p) >= Emax:\n",
    "    s.append([0 for j in range(len(s[0]))])\n",
    "    s[i+1] = product(E, y[i])\n",
    "    y.append((action(s[i + 1], T)))\n",
    "    i += 1\n",
    "    p = y[i - 1]\n",
    "\n",
    "#print(y)\n",
    "result_index = y[len(y) - 1].index(max(y[len(y) - 1])) + 1\n",
    "\n",
    "q = vector_to_matrix(X_train[result_index - 1], 11, 11)\n",
    "\n",
    "SYMBOLS[result_index - 1]\n",
    "\n"
   ]
  }
 ],
 "metadata": {
  "kernelspec": {
   "display_name": "Python 3",
   "language": "python",
   "name": "python3"
  },
  "language_info": {
   "codemirror_mode": {
    "name": "ipython",
    "version": 3
   },
   "file_extension": ".py",
   "mimetype": "text/x-python",
   "name": "python",
   "nbconvert_exporter": "python",
   "pygments_lexer": "ipython3",
   "version": "3.10.9"
  },
  "orig_nbformat": 4
 },
 "nbformat": 4,
 "nbformat_minor": 2
}
